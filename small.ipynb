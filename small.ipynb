{
 "cells": [
  {
   "cell_type": "code",
   "execution_count": 9,
   "metadata": {},
   "outputs": [],
   "source": [
    "import polars as pl \n",
    "import re\n",
    "import yaml \n",
    "from utils.process import get_specie\n",
    "\n",
    "\n",
    "# Load yaml file\n",
    "with open('/home/simon.herman/Bureau/Gits/Elongates/env.yaml', 'r') as f:\n",
    "    yaml_data = yaml.safe_load(f)\n",
    "    species_dict = {k: v for d in yaml_data['Regex'].values() for k, v in d.items()}\n",
    "    species_order = yaml_data['Species_order']['Scer']\n",
    "    re_dict = yaml_data['Regex']['Scer']\n",
    "def parse_blast_dataframe(row : tuple) -> tuple:\n",
    "\n",
    "    query_pattern = r'(.*?)-(cluster_n\\d+)'\n",
    "    subject_pattern = r'(.*?)-(cluster_n\\d+)'\n",
    "\n",
    "    query_id = row[0]\n",
    "    subject_id = row[1]\n",
    "    evalue = row[2]\n",
    "    qstart = row[3]\n",
    "    qend = row[4]\n",
    "    sstart = row[5]\n",
    "    send = row[6]\n",
    "    qseq = row[7]\n",
    "    sseq = row[8]\n",
    "    length = row[9]\n",
    "    blast_gapopen = row[10]\n",
    "    blast_gaps = row[11]\n",
    "\n",
    "\n",
    "\n",
    "    query_matches = re.match(query_pattern, query_id)\n",
    "    query_seq_id = query_matches.group(1) if query_matches else None\n",
    "    query_cluster = query_matches.group(2) if query_matches else None\n",
    "\n",
    "    subject_matches = re.match(subject_pattern, subject_id)\n",
    "    subject_seq_id = subject_matches.group(1) if subject_matches else None\n",
    "    subject_cluster = subject_matches.group(2) if subject_matches else None\n",
    "\n",
    "    is_same_cluster = int(query_cluster == subject_cluster)\n",
    "    q_specie = get_specie(re_dict, query_seq_id)\n",
    "    s_specie = get_specie(re_dict, subject_seq_id)\n",
    "\n",
    "    tuple_ = tuple([query_seq_id, subject_seq_id, evalue, qstart, qend, sstart, send, \n",
    "                    qseq, sseq, length, blast_gapopen, blast_gaps, query_cluster, subject_cluster, \n",
    "                    is_same_cluster, q_specie, s_specie])\n",
    "    return tuple_\n"
   ]
  },
  {
   "cell_type": "code",
   "execution_count": 11,
   "metadata": {},
   "outputs": [],
   "source": [
    "columns =  [\"qseqid\", \"sseqid\", \"evalue\", \"qstart\", \"qend\", \"sstart\", \"send\", \"qseq\", \"sseq\", \"length\", \"blast_gapopen\", \"blast_gaps\"]\n",
    "nuc_blast  = pl.read_csv(f\"~/Bureau/test.blast\", separator=\"\\t\", has_header = False)\n",
    "nuc_blast.columns = columns\n",
    "\n",
    "nuc_blast = nuc_blast.with_columns(\n",
    "    pl.lit(\"NA\").alias('query_cluster'),\n",
    "    pl.lit(\"NA\").alias('subject_cluster'),\n",
    "    pl.lit(\"NA\").alias('same_cluster'),\n",
    "    pl.lit(\"NA\").alias('q_specie'),\n",
    "    pl.lit(\"NA\").alias('s_specie')\n",
    ")\n",
    "\n",
    "columns = nuc_blast.columns\n",
    "nuc_blast = nuc_blast.apply(parse_blast_dataframe)\n",
    "nuc_blast.columns = columns\n"
   ]
  },
  {
   "cell_type": "code",
   "execution_count": 12,
   "metadata": {},
   "outputs": [
    {
     "data": {
      "text/html": [
       "<div><style>\n",
       ".dataframe > thead > tr > th,\n",
       ".dataframe > tbody > tr > td {\n",
       "  text-align: right;\n",
       "}\n",
       "</style>\n",
       "<small>shape: (415, 17)</small><table border=\"1\" class=\"dataframe\"><thead><tr><th>qseqid</th><th>sseqid</th><th>evalue</th><th>qstart</th><th>qend</th><th>sstart</th><th>send</th><th>qseq</th><th>sseq</th><th>length</th><th>blast_gapopen</th><th>blast_gaps</th><th>query_cluster</th><th>subject_cluster</th><th>same_cluster</th><th>q_specie</th><th>s_specie</th></tr><tr><td>str</td><td>str</td><td>f64</td><td>i64</td><td>i64</td><td>i64</td><td>i64</td><td>str</td><td>str</td><td>i64</td><td>i64</td><td>i64</td><td>str</td><td>str</td><td>i64</td><td>str</td><td>str</td></tr></thead><tbody><tr><td>&quot;rna-NM_0011817…</td><td>&quot;rna-XM_0339114…</td><td>3.8600e-133</td><td>3</td><td>342</td><td>356</td><td>689</td><td>&quot;GAACCGTTCGCATT…</td><td>&quot;GAACCGTCCGCATG…</td><td>341</td><td>4</td><td>8</td><td>&quot;cluster_n6542&quot;</td><td>&quot;cluster_n6542&quot;</td><td>1</td><td>&quot;Scer_NCBI&quot;</td><td>&quot;Spar_NCBI&quot;</td></tr><tr><td>&quot;Skud_9.62&quot;</td><td>&quot;rna-XM_0339110…</td><td>3.3700e-26</td><td>1</td><td>161</td><td>171</td><td>327</td><td>&quot;TGGAAAGAACGAAA…</td><td>&quot;TGGAAAGAACGAAA…</td><td>164</td><td>8</td><td>10</td><td>&quot;cluster_n744&quot;</td><td>&quot;cluster_n744&quot;</td><td>1</td><td>&quot;Skud&quot;</td><td>&quot;Spar_NCBI&quot;</td></tr><tr><td>&quot;Sbay_10.162&quot;</td><td>&quot;Sbay_10.163&quot;</td><td>1.5600e-41</td><td>1</td><td>87</td><td>819</td><td>905</td><td>&quot;ATGTTCAAAGAACC…</td><td>&quot;ATGTTCAAAGAACC…</td><td>87</td><td>0</td><td>0</td><td>&quot;cluster_n6775&quot;</td><td>&quot;cluster_n4451&quot;</td><td>0</td><td>&quot;Sbay&quot;</td><td>&quot;Sbay&quot;</td></tr><tr><td>&quot;rna-NM_0011842…</td><td>&quot;rna-NM_0011843…</td><td>3.3700e-20</td><td>1</td><td>48</td><td>2736</td><td>2783</td><td>&quot;ATGTCAGAAGATCA…</td><td>&quot;ATGTCAGAAGATCA…</td><td>48</td><td>0</td><td>0</td><td>&quot;cluster_n5063&quot;</td><td>&quot;cluster_n3439&quot;</td><td>0</td><td>&quot;Scer_NCBI&quot;</td><td>&quot;Scer_NCBI&quot;</td></tr><tr><td>&quot;rna-NM_0011842…</td><td>&quot;Skud_13.4&quot;</td><td>4.3600e-19</td><td>3</td><td>48</td><td>51</td><td>96</td><td>&quot;GTCAGAAGATCAAA…</td><td>&quot;GTCAGAAGATCAAA…</td><td>46</td><td>0</td><td>0</td><td>&quot;cluster_n5063&quot;</td><td>&quot;cluster_n5063&quot;</td><td>1</td><td>&quot;Scer_NCBI&quot;</td><td>&quot;Skud&quot;</td></tr><tr><td>&quot;rna-XM_0339089…</td><td>&quot;rna-NM_0011843…</td><td>3.3700e-20</td><td>1</td><td>48</td><td>2736</td><td>2783</td><td>&quot;ATGTCAGAAGATCA…</td><td>&quot;ATGTCAGAAGATCA…</td><td>48</td><td>0</td><td>0</td><td>&quot;cluster_n5063&quot;</td><td>&quot;cluster_n3439&quot;</td><td>0</td><td>&quot;Spar_NCBI&quot;</td><td>&quot;Scer_NCBI&quot;</td></tr><tr><td>&quot;rna-XM_0339089…</td><td>&quot;Skud_13.4&quot;</td><td>4.3600e-19</td><td>3</td><td>48</td><td>51</td><td>96</td><td>&quot;GTCAGAAGATCAAA…</td><td>&quot;GTCAGAAGATCAAA…</td><td>46</td><td>0</td><td>0</td><td>&quot;cluster_n5063&quot;</td><td>&quot;cluster_n5063&quot;</td><td>1</td><td>&quot;Spar_NCBI&quot;</td><td>&quot;Skud&quot;</td></tr><tr><td>&quot;rna-XM_0339107…</td><td>&quot;rna-NM_0011843…</td><td>3.3700e-20</td><td>1</td><td>48</td><td>2736</td><td>2783</td><td>&quot;ATGTCAGAAGATCA…</td><td>&quot;ATGTCAGAAGATCA…</td><td>48</td><td>0</td><td>0</td><td>&quot;cluster_n5063&quot;</td><td>&quot;cluster_n3439&quot;</td><td>0</td><td>&quot;Spar_NCBI&quot;</td><td>&quot;Scer_NCBI&quot;</td></tr><tr><td>&quot;rna-XM_0339107…</td><td>&quot;Skud_13.4&quot;</td><td>4.3600e-19</td><td>3</td><td>48</td><td>51</td><td>96</td><td>&quot;GTCAGAAGATCAAA…</td><td>&quot;GTCAGAAGATCAAA…</td><td>46</td><td>0</td><td>0</td><td>&quot;cluster_n5063&quot;</td><td>&quot;cluster_n5063&quot;</td><td>1</td><td>&quot;Spar_NCBI&quot;</td><td>&quot;Skud&quot;</td></tr><tr><td>&quot;rna-NM_0011803…</td><td>&quot;Skud_4.258&quot;</td><td>3.2900e-115</td><td>71</td><td>462</td><td>463</td><td>854</td><td>&quot;CCTTTTCTTCCTTA…</td><td>&quot;CCTTGTTTTCCTTA…</td><td>395</td><td>2</td><td>6</td><td>&quot;cluster_n2561&quot;</td><td>&quot;cluster_n2561&quot;</td><td>1</td><td>&quot;Scer_NCBI&quot;</td><td>&quot;Skud&quot;</td></tr><tr><td>&quot;rna-NM_0011836…</td><td>&quot;rna-XM_0339134…</td><td>2.2300e-53</td><td>17</td><td>186</td><td>205</td><td>372</td><td>&quot;AAAATTACCCTAAT…</td><td>&quot;AAAATTACCCTAAT…</td><td>170</td><td>1</td><td>2</td><td>&quot;cluster_n5362&quot;</td><td>&quot;cluster_n5362&quot;</td><td>1</td><td>&quot;Scer_NCBI&quot;</td><td>&quot;Spar_NCBI&quot;</td></tr><tr><td>&quot;rna-XM_0339131…</td><td>&quot;rna-NM_0011832…</td><td>4.0000e-117</td><td>4</td><td>272</td><td>278</td><td>546</td><td>&quot;TAAAGAACGGAGAA…</td><td>&quot;TAGAGAACGGAGAA…</td><td>269</td><td>0</td><td>0</td><td>&quot;cluster_n4704&quot;</td><td>&quot;cluster_n4704&quot;</td><td>1</td><td>&quot;Spar_NCBI&quot;</td><td>&quot;Scer_NCBI&quot;</td></tr><tr><td>&hellip;</td><td>&hellip;</td><td>&hellip;</td><td>&hellip;</td><td>&hellip;</td><td>&hellip;</td><td>&hellip;</td><td>&hellip;</td><td>&hellip;</td><td>&hellip;</td><td>&hellip;</td><td>&hellip;</td><td>&hellip;</td><td>&hellip;</td><td>&hellip;</td><td>&hellip;</td><td>&hellip;</td></tr><tr><td>&quot;rna-NM_0011840…</td><td>&quot;rna-NM_0011795…</td><td>1.2900e-37</td><td>1</td><td>117</td><td>446</td><td>562</td><td>&quot;TGACCAATGAAGGA…</td><td>&quot;TGACTGATGAAGGC…</td><td>117</td><td>0</td><td>0</td><td>&quot;cluster_n3466&quot;</td><td>&quot;cluster_n3466&quot;</td><td>1</td><td>&quot;Scer_NCBI&quot;</td><td>&quot;Scer_NCBI&quot;</td></tr><tr><td>&quot;rna-NM_0011840…</td><td>&quot;rna-NM_0011797…</td><td>1.2900e-37</td><td>1</td><td>117</td><td>446</td><td>562</td><td>&quot;TGACCAATGAAGGA…</td><td>&quot;TGACTGATGAAGGC…</td><td>117</td><td>0</td><td>0</td><td>&quot;cluster_n3466&quot;</td><td>&quot;cluster_n3466&quot;</td><td>1</td><td>&quot;Scer_NCBI&quot;</td><td>&quot;Scer_NCBI&quot;</td></tr><tr><td>&quot;rna-NM_0011840…</td><td>&quot;rna-XM_0339091…</td><td>1.2900e-37</td><td>1</td><td>117</td><td>446</td><td>562</td><td>&quot;TGACCAATGAAGGA…</td><td>&quot;TGATCGATGAAGGA…</td><td>117</td><td>0</td><td>0</td><td>&quot;cluster_n3466&quot;</td><td>&quot;cluster_n3466&quot;</td><td>1</td><td>&quot;Scer_NCBI&quot;</td><td>&quot;Spar_NCBI&quot;</td></tr><tr><td>&quot;rna-NM_0011840…</td><td>&quot;rna-XM_0339115…</td><td>4.6300e-37</td><td>1</td><td>117</td><td>447</td><td>562</td><td>&quot;TGACCAATGAAGGA…</td><td>&quot;TGATCGATGAAGGA…</td><td>117</td><td>1</td><td>1</td><td>&quot;cluster_n3466&quot;</td><td>&quot;cluster_n3466&quot;</td><td>1</td><td>&quot;Scer_NCBI&quot;</td><td>&quot;Spar_NCBI&quot;</td></tr><tr><td>&quot;rna-NM_0011840…</td><td>&quot;rna-XM_0339085…</td><td>5.9900e-36</td><td>1</td><td>117</td><td>446</td><td>562</td><td>&quot;TGACCAATGAAGGA…</td><td>&quot;TGATCGATGAAGGA…</td><td>117</td><td>0</td><td>0</td><td>&quot;cluster_n3466&quot;</td><td>&quot;cluster_n3466&quot;</td><td>1</td><td>&quot;Scer_NCBI&quot;</td><td>&quot;Spar_NCBI&quot;</td></tr><tr><td>&quot;rna-NM_0011840…</td><td>&quot;rna-XM_0339101…</td><td>6.0800e-26</td><td>54</td><td>119</td><td>499</td><td>564</td><td>&quot;GAATATGTCTTTAT…</td><td>&quot;GAATATGTCTTCAT…</td><td>66</td><td>0</td><td>0</td><td>&quot;cluster_n3466&quot;</td><td>&quot;cluster_n3466&quot;</td><td>1</td><td>&quot;Scer_NCBI&quot;</td><td>&quot;Spar_NCBI&quot;</td></tr><tr><td>&quot;rna-NM_0011840…</td><td>&quot;rna-XM_0339102…</td><td>2.1900e-25</td><td>55</td><td>119</td><td>500</td><td>564</td><td>&quot;AATATGTCTTTATT…</td><td>&quot;AATATGTCTTCATT…</td><td>65</td><td>0</td><td>0</td><td>&quot;cluster_n3466&quot;</td><td>&quot;cluster_n3466&quot;</td><td>1</td><td>&quot;Scer_NCBI&quot;</td><td>&quot;Spar_NCBI&quot;</td></tr><tr><td>&quot;rna-NM_0011840…</td><td>&quot;rna-NM_0011788…</td><td>2.1900e-25</td><td>1</td><td>119</td><td>445</td><td>564</td><td>&quot;TGACCAATGAAGGA…</td><td>&quot;TGACAGATGGAGGA…</td><td>122</td><td>5</td><td>5</td><td>&quot;cluster_n3466&quot;</td><td>&quot;cluster_n3466&quot;</td><td>1</td><td>&quot;Scer_NCBI&quot;</td><td>&quot;Scer_NCBI&quot;</td></tr><tr><td>&quot;rna-NM_0011840…</td><td>&quot;rna-NM_0011832…</td><td>2.1900e-25</td><td>7</td><td>119</td><td>451</td><td>564</td><td>&quot;ATGAAGGAATAGGT…</td><td>&quot;ATGGAGGAACGGGT…</td><td>116</td><td>5</td><td>5</td><td>&quot;cluster_n3466&quot;</td><td>&quot;cluster_n3466&quot;</td><td>1</td><td>&quot;Scer_NCBI&quot;</td><td>&quot;Scer_NCBI&quot;</td></tr><tr><td>&quot;rna-NM_0011840…</td><td>&quot;rna-NM_0011818…</td><td>2.1900e-25</td><td>1</td><td>119</td><td>445</td><td>564</td><td>&quot;TGACCAATGAAGGA…</td><td>&quot;TGACAGATGGAGGA…</td><td>122</td><td>5</td><td>5</td><td>&quot;cluster_n3466&quot;</td><td>&quot;cluster_n3466&quot;</td><td>1</td><td>&quot;Scer_NCBI&quot;</td><td>&quot;Scer_NCBI&quot;</td></tr><tr><td>&quot;rna-NM_0011840…</td><td>&quot;rna-XM_0339136…</td><td>2.8300e-24</td><td>54</td><td>119</td><td>499</td><td>564</td><td>&quot;GAATATGTCTTTAT…</td><td>&quot;GAATATGTCTTCAT…</td><td>66</td><td>0</td><td>0</td><td>&quot;cluster_n3466&quot;</td><td>&quot;cluster_n3466&quot;</td><td>1</td><td>&quot;Scer_NCBI&quot;</td><td>&quot;Spar_NCBI&quot;</td></tr><tr><td>&quot;rna-NM_0011840…</td><td>&quot;rna-XM_0339091…</td><td>2.8300e-24</td><td>54</td><td>119</td><td>499</td><td>564</td><td>&quot;GAATATGTCTTTAT…</td><td>&quot;GAATATGTCTTCAT…</td><td>66</td><td>0</td><td>0</td><td>&quot;cluster_n3466&quot;</td><td>&quot;cluster_n3466&quot;</td><td>1</td><td>&quot;Scer_NCBI&quot;</td><td>&quot;Spar_NCBI&quot;</td></tr></tbody></table></div>"
      ],
      "text/plain": [
       "shape: (415, 17)\n",
       "┌───────────┬───────────┬───────────┬────────┬───┬────────────┬────────────┬───────────┬───────────┐\n",
       "│ qseqid    ┆ sseqid    ┆ evalue    ┆ qstart ┆ … ┆ subject_cl ┆ same_clust ┆ q_specie  ┆ s_specie  │\n",
       "│ ---       ┆ ---       ┆ ---       ┆ ---    ┆   ┆ uster      ┆ er         ┆ ---       ┆ ---       │\n",
       "│ str       ┆ str       ┆ f64       ┆ i64    ┆   ┆ ---        ┆ ---        ┆ str       ┆ str       │\n",
       "│           ┆           ┆           ┆        ┆   ┆ str        ┆ i64        ┆           ┆           │\n",
       "╞═══════════╪═══════════╪═══════════╪════════╪═══╪════════════╪════════════╪═══════════╪═══════════╡\n",
       "│ rna-NM_00 ┆ rna-XM_03 ┆ 3.8600e-1 ┆ 3      ┆ … ┆ cluster_n6 ┆ 1          ┆ Scer_NCBI ┆ Spar_NCBI │\n",
       "│ 1181785.3 ┆ 3911493.1 ┆ 33        ┆        ┆   ┆ 542        ┆            ┆           ┆           │\n",
       "│ Skud_9.62 ┆ rna-XM_03 ┆ 3.3700e-2 ┆ 1      ┆ … ┆ cluster_n7 ┆ 1          ┆ Skud      ┆ Spar_NCBI │\n",
       "│           ┆ 3911055.1 ┆ 6         ┆        ┆   ┆ 44         ┆            ┆           ┆           │\n",
       "│ Sbay_10.1 ┆ Sbay_10.1 ┆ 1.5600e-4 ┆ 1      ┆ … ┆ cluster_n4 ┆ 0          ┆ Sbay      ┆ Sbay      │\n",
       "│ 62        ┆ 63        ┆ 1         ┆        ┆   ┆ 451        ┆            ┆           ┆           │\n",
       "│ rna-NM_00 ┆ rna-NM_00 ┆ 3.3700e-2 ┆ 1      ┆ … ┆ cluster_n3 ┆ 0          ┆ Scer_NCBI ┆ Scer_NCBI │\n",
       "│ 1184298.1 ┆ 1184301.1 ┆ 0         ┆        ┆   ┆ 439        ┆            ┆           ┆           │\n",
       "│ …         ┆ …         ┆ …         ┆ …      ┆ … ┆ …          ┆ …          ┆ …         ┆ …         │\n",
       "│ rna-NM_00 ┆ rna-NM_00 ┆ 2.1900e-2 ┆ 7      ┆ … ┆ cluster_n3 ┆ 1          ┆ Scer_NCBI ┆ Scer_NCBI │\n",
       "│ 1184096.1 ┆ 1183253.3 ┆ 5         ┆        ┆   ┆ 466        ┆            ┆           ┆           │\n",
       "│ rna-NM_00 ┆ rna-NM_00 ┆ 2.1900e-2 ┆ 1      ┆ … ┆ cluster_n3 ┆ 1          ┆ Scer_NCBI ┆ Scer_NCBI │\n",
       "│ 1184096.1 ┆ 1181884.1 ┆ 5         ┆        ┆   ┆ 466        ┆            ┆           ┆           │\n",
       "│ rna-NM_00 ┆ rna-XM_03 ┆ 2.8300e-2 ┆ 54     ┆ … ┆ cluster_n3 ┆ 1          ┆ Scer_NCBI ┆ Spar_NCBI │\n",
       "│ 1184096.1 ┆ 3913608.1 ┆ 4         ┆        ┆   ┆ 466        ┆            ┆           ┆           │\n",
       "│ rna-NM_00 ┆ rna-XM_03 ┆ 2.8300e-2 ┆ 54     ┆ … ┆ cluster_n3 ┆ 1          ┆ Scer_NCBI ┆ Spar_NCBI │\n",
       "│ 1184096.1 ┆ 3909144.1 ┆ 4         ┆        ┆   ┆ 466        ┆            ┆           ┆           │\n",
       "└───────────┴───────────┴───────────┴────────┴───┴────────────┴────────────┴───────────┴───────────┘"
      ]
     },
     "execution_count": 12,
     "metadata": {},
     "output_type": "execute_result"
    }
   ],
   "source": [
    "nuc_blast"
   ]
  },
  {
   "cell_type": "code",
   "execution_count": 13,
   "metadata": {},
   "outputs": [],
   "source": [
    "cov = 0.5001\n",
    "nter_elongates_data = pl.read_csv(f\"output/{cov}/{cov}_elongates.csv\", infer_schema_length = 5000)"
   ]
  },
  {
   "cell_type": "code",
   "execution_count": 14,
   "metadata": {},
   "outputs": [
    {
     "data": {
      "text/html": [
       "<div><style>\n",
       ".dataframe > thead > tr > th,\n",
       ".dataframe > tbody > tr > td {\n",
       "  text-align: right;\n",
       "}\n",
       "</style>\n",
       "<small>shape: (838, 31)</small><table border=\"1\" class=\"dataframe\"><thead><tr><th>cluster_size</th><th>cluster_name</th><th>seq_id</th><th>species</th><th>sequence</th><th>sequence_length</th><th>Nter_dashes</th><th>Cter_dashes</th><th>max_Nter</th><th>max_Cter</th><th>Nter_elongate</th><th>Nter_gaps</th><th>Nter_gap_openings</th><th>Nter_nb_aa</th><th>Nter_elongate_length</th><th>Cter_elongate</th><th>Cter_gaps</th><th>Cter_gap_openings</th><th>Cter_nb_aa</th><th>Cter_elongate_length</th><th>Nter_ratio</th><th>Cter_ratio</th><th>is_max_Nter</th><th>is_max_Cter</th><th>is_min_Nter</th><th>is_min_Cter</th><th>Meth_after_Nter</th><th>Nter_event_ID</th><th>Cter_event_ID</th><th>Nter_events</th><th>Cter_events</th></tr><tr><td>i64</td><td>str</td><td>str</td><td>str</td><td>str</td><td>i64</td><td>i64</td><td>i64</td><td>i64</td><td>i64</td><td>str</td><td>i64</td><td>i64</td><td>i64</td><td>i64</td><td>str</td><td>i64</td><td>i64</td><td>i64</td><td>i64</td><td>f64</td><td>f64</td><td>i64</td><td>i64</td><td>i64</td><td>i64</td><td>str</td><td>i64</td><td>i64</td><td>i64</td><td>i64</td></tr></thead><tbody><tr><td>4</td><td>&quot;cluster_n5821&quot;</td><td>&quot;rna-NM_0011823…</td><td>&quot;Scer_NCBI&quot;</td><td>&quot;MNIDCLCRWVVLPL…</td><td>330</td><td>0</td><td>4</td><td>71</td><td>4</td><td>&quot;MNIDCLCRWVVLPL…</td><td>0</td><td>0</td><td>71</td><td>71</td><td>null</td><td>0</td><td>0</td><td>0</td><td>0</td><td>0.215152</td><td>0.0</td><td>1</td><td>0</td><td>0</td><td>1</td><td>&quot;0&quot;</td><td>2</td><td>1</td><td>1</td><td>0</td></tr><tr><td>4</td><td>&quot;cluster_n5821&quot;</td><td>&quot;rna-XM_0339122…</td><td>&quot;Spar_NCBI&quot;</td><td>&quot;MNIDCLCHWIVLPL…</td><td>330</td><td>0</td><td>4</td><td>71</td><td>4</td><td>&quot;MNIDCLCHWIVLPL…</td><td>0</td><td>0</td><td>71</td><td>71</td><td>null</td><td>0</td><td>0</td><td>0</td><td>0</td><td>0.215152</td><td>0.0</td><td>1</td><td>0</td><td>0</td><td>1</td><td>&quot;0&quot;</td><td>2</td><td>1</td><td>1</td><td>0</td></tr><tr><td>4</td><td>&quot;cluster_n5821&quot;</td><td>&quot;Sarb_12G04260.…</td><td>&quot;Sarb&quot;</td><td>&quot;MNIDFLCHWVVLPI…</td><td>330</td><td>0</td><td>0</td><td>71</td><td>4</td><td>&quot;MNIDFLCHWVVLPI…</td><td>0</td><td>0</td><td>71</td><td>71</td><td>&quot;GHIE&quot;</td><td>0</td><td>0</td><td>4</td><td>4</td><td>0.215152</td><td>0.012121</td><td>1</td><td>1</td><td>0</td><td>0</td><td>&quot;0&quot;</td><td>2</td><td>1</td><td>1</td><td>0</td></tr><tr><td>4</td><td>&quot;cluster_n2254&quot;</td><td>&quot;Sarb_07G00270.…</td><td>&quot;Sarb&quot;</td><td>&quot;MIAKNHAAMGEKRK…</td><td>299</td><td>0</td><td>1</td><td>68</td><td>1</td><td>&quot;MIAKNHAAMGEKRK…</td><td>0</td><td>0</td><td>68</td><td>68</td><td>null</td><td>0</td><td>0</td><td>0</td><td>0</td><td>0.227425</td><td>0.0</td><td>1</td><td>0</td><td>0</td><td>1</td><td>&quot;0&quot;</td><td>3</td><td>1</td><td>2</td><td>0</td></tr><tr><td>4</td><td>&quot;cluster_n6542&quot;</td><td>&quot;rna-NM_0011817…</td><td>&quot;Scer_NCBI&quot;</td><td>&quot;MEPFAFGRGAPALC…</td><td>1401</td><td>0</td><td>0</td><td>115</td><td>0</td><td>&quot;MEPFAFGRGAPALC…</td><td>0</td><td>0</td><td>115</td><td>115</td><td>null</td><td>0</td><td>0</td><td>0</td><td>0</td><td>0.082084</td><td>0.0</td><td>1</td><td>1</td><td>0</td><td>1</td><td>&quot;1&quot;</td><td>2</td><td>1</td><td>1</td><td>0</td></tr><tr><td>4</td><td>&quot;cluster_n706&quot;</td><td>&quot;Sarb_13G00390.…</td><td>&quot;Sarb&quot;</td><td>&quot;MSSQKIDLTKLNPE…</td><td>163</td><td>0</td><td>0</td><td>38</td><td>0</td><td>&quot;MSSQKIDLTKLNPE…</td><td>0</td><td>0</td><td>38</td><td>38</td><td>null</td><td>0</td><td>0</td><td>0</td><td>0</td><td>0.233129</td><td>0.0</td><td>1</td><td>1</td><td>0</td><td>1</td><td>&quot;1&quot;</td><td>2</td><td>1</td><td>1</td><td>0</td></tr><tr><td>4</td><td>&quot;cluster_n706&quot;</td><td>&quot;rna-NM_0011824…</td><td>&quot;Scer_NCBI&quot;</td><td>&quot;MSSQKIDLTKLNPE…</td><td>163</td><td>0</td><td>0</td><td>38</td><td>0</td><td>&quot;MSSQKIDLTKLNPE…</td><td>0</td><td>0</td><td>38</td><td>38</td><td>null</td><td>0</td><td>0</td><td>0</td><td>0</td><td>0.233129</td><td>0.0</td><td>1</td><td>1</td><td>0</td><td>1</td><td>&quot;1&quot;</td><td>2</td><td>1</td><td>1</td><td>0</td></tr><tr><td>4</td><td>&quot;cluster_n706&quot;</td><td>&quot;rna-XM_0339123…</td><td>&quot;Spar_NCBI&quot;</td><td>&quot;MSSQKIDLTKLNPE…</td><td>163</td><td>0</td><td>0</td><td>38</td><td>0</td><td>&quot;MSSQKIDLTKLNPE…</td><td>0</td><td>0</td><td>38</td><td>38</td><td>null</td><td>0</td><td>0</td><td>0</td><td>0</td><td>0.233129</td><td>0.0</td><td>1</td><td>1</td><td>0</td><td>1</td><td>&quot;1&quot;</td><td>2</td><td>1</td><td>1</td><td>0</td></tr><tr><td>4</td><td>&quot;cluster_n2666&quot;</td><td>&quot;Skud_3.127&quot;</td><td>&quot;Skud&quot;</td><td>&quot;MRMIYKKVSSGRGR…</td><td>696</td><td>0</td><td>0</td><td>36</td><td>0</td><td>&quot;MRMIYKKVSSGRGR…</td><td>0</td><td>0</td><td>36</td><td>36</td><td>null</td><td>0</td><td>0</td><td>0</td><td>0</td><td>0.051724</td><td>0.0</td><td>1</td><td>1</td><td>0</td><td>1</td><td>&quot;1&quot;</td><td>2</td><td>1</td><td>1</td><td>0</td></tr><tr><td>4</td><td>&quot;cluster_n744&quot;</td><td>&quot;Skud_9.62&quot;</td><td>&quot;Skud&quot;</td><td>&quot;MERTKTKKNKTCKE…</td><td>986</td><td>0</td><td>0</td><td>55</td><td>0</td><td>&quot;MERTKTKKNKTCKE…</td><td>0</td><td>0</td><td>55</td><td>55</td><td>null</td><td>0</td><td>0</td><td>0</td><td>0</td><td>0.055781</td><td>0.0</td><td>1</td><td>1</td><td>0</td><td>1</td><td>&quot;1&quot;</td><td>2</td><td>1</td><td>1</td><td>0</td></tr><tr><td>4</td><td>&quot;cluster_n6914&quot;</td><td>&quot;rna-NM_0011826…</td><td>&quot;Scer_NCBI&quot;</td><td>&quot;MGNFIITERKKAKE…</td><td>150</td><td>0</td><td>0</td><td>23</td><td>0</td><td>&quot;MGNFIITERKKAKE…</td><td>0</td><td>0</td><td>23</td><td>23</td><td>null</td><td>0</td><td>0</td><td>0</td><td>0</td><td>0.153333</td><td>0.0</td><td>1</td><td>1</td><td>0</td><td>1</td><td>&quot;1&quot;</td><td>3</td><td>1</td><td>2</td><td>0</td></tr><tr><td>4</td><td>&quot;cluster_n743&quot;</td><td>&quot;Skud_13.6&quot;</td><td>&quot;Skud&quot;</td><td>&quot;MSLETNMSKRRITD…</td><td>310</td><td>0</td><td>0</td><td>16</td><td>0</td><td>&quot;MSLETNMSKRRITD…</td><td>0</td><td>0</td><td>16</td><td>16</td><td>null</td><td>0</td><td>0</td><td>0</td><td>0</td><td>0.051613</td><td>0.0</td><td>1</td><td>1</td><td>0</td><td>1</td><td>&quot;1&quot;</td><td>2</td><td>1</td><td>1</td><td>0</td></tr><tr><td>&hellip;</td><td>&hellip;</td><td>&hellip;</td><td>&hellip;</td><td>&hellip;</td><td>&hellip;</td><td>&hellip;</td><td>&hellip;</td><td>&hellip;</td><td>&hellip;</td><td>&hellip;</td><td>&hellip;</td><td>&hellip;</td><td>&hellip;</td><td>&hellip;</td><td>&hellip;</td><td>&hellip;</td><td>&hellip;</td><td>&hellip;</td><td>&hellip;</td><td>&hellip;</td><td>&hellip;</td><td>&hellip;</td><td>&hellip;</td><td>&hellip;</td><td>&hellip;</td><td>&hellip;</td><td>&hellip;</td><td>&hellip;</td><td>&hellip;</td><td>&hellip;</td></tr><tr><td>12</td><td>&quot;cluster_n1266&quot;</td><td>&quot;rna-NM_0011831…</td><td>&quot;Scer_NCBI&quot;</td><td>&quot;MSTDKITFLLNWQP…</td><td>340</td><td>0</td><td>0</td><td>58</td><td>0</td><td>&quot;MSTDKITFLLNWQP…</td><td>0</td><td>0</td><td>58</td><td>58</td><td>null</td><td>0</td><td>0</td><td>0</td><td>0</td><td>0.170588</td><td>0.0</td><td>1</td><td>1</td><td>0</td><td>1</td><td>&quot;1&quot;</td><td>2</td><td>1</td><td>1</td><td>0</td></tr><tr><td>12</td><td>&quot;cluster_n1266&quot;</td><td>&quot;rna-NM_0011799…</td><td>&quot;Scer_NCBI&quot;</td><td>&quot;MSTDKITFLLNWQP…</td><td>340</td><td>0</td><td>0</td><td>58</td><td>0</td><td>&quot;MSTDKITFLLNWQP…</td><td>0</td><td>0</td><td>58</td><td>58</td><td>null</td><td>0</td><td>0</td><td>0</td><td>0</td><td>0.170588</td><td>0.0</td><td>1</td><td>1</td><td>0</td><td>1</td><td>&quot;1&quot;</td><td>2</td><td>1</td><td>1</td><td>0</td></tr><tr><td>12</td><td>&quot;cluster_n1266&quot;</td><td>&quot;rna-NM_0011818…</td><td>&quot;Scer_NCBI&quot;</td><td>&quot;MSTDKITFLLNWQP…</td><td>340</td><td>0</td><td>0</td><td>58</td><td>0</td><td>&quot;MSTDKITFLLNWQP…</td><td>0</td><td>0</td><td>58</td><td>58</td><td>null</td><td>0</td><td>0</td><td>0</td><td>0</td><td>0.170588</td><td>0.0</td><td>1</td><td>1</td><td>0</td><td>1</td><td>&quot;1&quot;</td><td>2</td><td>1</td><td>1</td><td>0</td></tr><tr><td>12</td><td>&quot;cluster_n1266&quot;</td><td>&quot;rna-NM_0011803…</td><td>&quot;Scer_NCBI&quot;</td><td>&quot;MSTDKITFLLNWQP…</td><td>340</td><td>0</td><td>0</td><td>58</td><td>0</td><td>&quot;MSTDKITFLLNWQP…</td><td>0</td><td>0</td><td>58</td><td>58</td><td>null</td><td>0</td><td>0</td><td>0</td><td>0</td><td>0.170588</td><td>0.0</td><td>1</td><td>1</td><td>0</td><td>1</td><td>&quot;1&quot;</td><td>2</td><td>1</td><td>1</td><td>0</td></tr><tr><td>12</td><td>&quot;cluster_n2408&quot;</td><td>&quot;rna-NM_0011842…</td><td>&quot;Scer_NCBI&quot;</td><td>&quot;MVIILLGLCTLGFP…</td><td>577</td><td>0</td><td>2</td><td>22</td><td>2</td><td>&quot;MVIILLGLCTLGFP…</td><td>0</td><td>0</td><td>22</td><td>22</td><td>null</td><td>0</td><td>0</td><td>0</td><td>0</td><td>0.038128</td><td>0.0</td><td>1</td><td>0</td><td>0</td><td>1</td><td>&quot;1&quot;</td><td>2</td><td>1</td><td>1</td><td>0</td></tr><tr><td>20</td><td>&quot;cluster_n1844&quot;</td><td>&quot;Skud_13.240&quot;</td><td>&quot;Skud&quot;</td><td>&quot;MLRTSTLLTRRVHP…</td><td>375</td><td>0</td><td>0</td><td>27</td><td>0</td><td>&quot;MLRTSTLLTRRVHP…</td><td>0</td><td>0</td><td>27</td><td>27</td><td>null</td><td>0</td><td>0</td><td>0</td><td>0</td><td>0.072</td><td>0.0</td><td>1</td><td>1</td><td>0</td><td>1</td><td>&quot;0&quot;</td><td>2</td><td>1</td><td>1</td><td>0</td></tr><tr><td>20</td><td>&quot;cluster_n1844&quot;</td><td>&quot;Sarb_13G02000.…</td><td>&quot;Sarb&quot;</td><td>&quot;MLRTSTLFTRRVQP…</td><td>375</td><td>0</td><td>0</td><td>27</td><td>0</td><td>&quot;MLRTSTLFTRRVQP…</td><td>0</td><td>0</td><td>27</td><td>27</td><td>null</td><td>0</td><td>0</td><td>0</td><td>0</td><td>0.072</td><td>0.0</td><td>1</td><td>1</td><td>0</td><td>1</td><td>&quot;0&quot;</td><td>2</td><td>1</td><td>1</td><td>0</td></tr><tr><td>20</td><td>&quot;cluster_n1844&quot;</td><td>&quot;Sbay_13.261&quot;</td><td>&quot;Sbay&quot;</td><td>&quot;MLRTSTLFTRRVQP…</td><td>375</td><td>0</td><td>0</td><td>27</td><td>0</td><td>&quot;MLRTSTLFTRRVQP…</td><td>0</td><td>0</td><td>27</td><td>27</td><td>null</td><td>0</td><td>0</td><td>0</td><td>0</td><td>0.072</td><td>0.0</td><td>1</td><td>1</td><td>0</td><td>1</td><td>&quot;0&quot;</td><td>2</td><td>1</td><td>1</td><td>0</td></tr><tr><td>20</td><td>&quot;cluster_n1844&quot;</td><td>&quot;rna-NM_0011825…</td><td>&quot;Scer_NCBI&quot;</td><td>&quot;MLRTSTLFTRRVQP…</td><td>375</td><td>0</td><td>0</td><td>27</td><td>0</td><td>&quot;MLRTSTLFTRRVQP…</td><td>0</td><td>0</td><td>27</td><td>27</td><td>null</td><td>0</td><td>0</td><td>0</td><td>0</td><td>0.072</td><td>0.0</td><td>1</td><td>1</td><td>0</td><td>1</td><td>&quot;0&quot;</td><td>2</td><td>1</td><td>1</td><td>0</td></tr><tr><td>20</td><td>&quot;cluster_n1844&quot;</td><td>&quot;rna-XM_0339124…</td><td>&quot;Spar_NCBI&quot;</td><td>&quot;MLRTSTLFTRRVQP…</td><td>375</td><td>0</td><td>0</td><td>27</td><td>0</td><td>&quot;MLRTSTLFTRRVQP…</td><td>0</td><td>0</td><td>27</td><td>27</td><td>null</td><td>0</td><td>0</td><td>0</td><td>0</td><td>0.072</td><td>0.0</td><td>1</td><td>1</td><td>0</td><td>1</td><td>&quot;0&quot;</td><td>2</td><td>1</td><td>1</td><td>0</td></tr><tr><td>65</td><td>&quot;cluster_n3466&quot;</td><td>&quot;rna-NM_0011838…</td><td>&quot;Scer_NCBI&quot;</td><td>&quot;MTNEGIGINRDTST…</td><td>187</td><td>0</td><td>23</td><td>94</td><td>50</td><td>&quot;MTNEGIGINRDTST…</td><td>0</td><td>0</td><td>94</td><td>94</td><td>&quot;VPWYSTRLRPAISS…</td><td>0</td><td>0</td><td>27</td><td>27</td><td>0.502674</td><td>0.144385</td><td>1</td><td>0</td><td>0</td><td>0</td><td>&quot;0&quot;</td><td>3</td><td>2</td><td>2</td><td>2</td></tr><tr><td>65</td><td>&quot;cluster_n3466&quot;</td><td>&quot;rna-NM_0011840…</td><td>&quot;Scer_NCBI&quot;</td><td>&quot;MTNEGIGINRDTST…</td><td>187</td><td>0</td><td>23</td><td>94</td><td>50</td><td>&quot;MTNEGIGINRDTST…</td><td>0</td><td>0</td><td>94</td><td>94</td><td>&quot;VPWYSTRLRPAISS…</td><td>0</td><td>0</td><td>27</td><td>27</td><td>0.502674</td><td>0.144385</td><td>1</td><td>0</td><td>0</td><td>0</td><td>&quot;0&quot;</td><td>3</td><td>2</td><td>2</td><td>2</td></tr></tbody></table></div>"
      ],
      "text/plain": [
       "shape: (838, 31)\n",
       "┌────────────┬────────────┬─────────┬────────┬───┬────────────┬────────────┬───────────┬───────────┐\n",
       "│ cluster_si ┆ cluster_na ┆ seq_id  ┆ specie ┆ … ┆ Nter_event ┆ Cter_event ┆ Nter_even ┆ Cter_even │\n",
       "│ ze         ┆ me         ┆ ---     ┆ s      ┆   ┆ _ID        ┆ _ID        ┆ ts        ┆ ts        │\n",
       "│ ---        ┆ ---        ┆ str     ┆ ---    ┆   ┆ ---        ┆ ---        ┆ ---       ┆ ---       │\n",
       "│ i64        ┆ str        ┆         ┆ str    ┆   ┆ i64        ┆ i64        ┆ i64       ┆ i64       │\n",
       "╞════════════╪════════════╪═════════╪════════╪═══╪════════════╪════════════╪═══════════╪═══════════╡\n",
       "│ 4          ┆ cluster_n5 ┆ rna-NM_ ┆ Scer_N ┆ … ┆ 2          ┆ 1          ┆ 1         ┆ 0         │\n",
       "│            ┆ 821        ┆ 0011823 ┆ CBI    ┆   ┆            ┆            ┆           ┆           │\n",
       "│            ┆            ┆ 14.1    ┆        ┆   ┆            ┆            ┆           ┆           │\n",
       "│ 4          ┆ cluster_n5 ┆ rna-XM_ ┆ Spar_N ┆ … ┆ 2          ┆ 1          ┆ 1         ┆ 0         │\n",
       "│            ┆ 821        ┆ 0339122 ┆ CBI    ┆   ┆            ┆            ┆           ┆           │\n",
       "│            ┆            ┆ 64.1    ┆        ┆   ┆            ┆            ┆           ┆           │\n",
       "│ 4          ┆ cluster_n5 ┆ Sarb_12 ┆ Sarb   ┆ … ┆ 2          ┆ 1          ┆ 1         ┆ 0         │\n",
       "│            ┆ 821        ┆ G04260. ┆        ┆   ┆            ┆            ┆           ┆           │\n",
       "│            ┆            ┆ 1       ┆        ┆   ┆            ┆            ┆           ┆           │\n",
       "│ 4          ┆ cluster_n2 ┆ Sarb_07 ┆ Sarb   ┆ … ┆ 3          ┆ 1          ┆ 2         ┆ 0         │\n",
       "│            ┆ 254        ┆ G00270. ┆        ┆   ┆            ┆            ┆           ┆           │\n",
       "│            ┆            ┆ 1       ┆        ┆   ┆            ┆            ┆           ┆           │\n",
       "│ …          ┆ …          ┆ …       ┆ …      ┆ … ┆ …          ┆ …          ┆ …         ┆ …         │\n",
       "│ 20         ┆ cluster_n1 ┆ rna-NM_ ┆ Scer_N ┆ … ┆ 2          ┆ 1          ┆ 1         ┆ 0         │\n",
       "│            ┆ 844        ┆ 0011825 ┆ CBI    ┆   ┆            ┆            ┆           ┆           │\n",
       "│            ┆            ┆ 82.1    ┆        ┆   ┆            ┆            ┆           ┆           │\n",
       "│ 20         ┆ cluster_n1 ┆ rna-XM_ ┆ Spar_N ┆ … ┆ 2          ┆ 1          ┆ 1         ┆ 0         │\n",
       "│            ┆ 844        ┆ 0339124 ┆ CBI    ┆   ┆            ┆            ┆           ┆           │\n",
       "│            ┆            ┆ 97.1    ┆        ┆   ┆            ┆            ┆           ┆           │\n",
       "│ 65         ┆ cluster_n3 ┆ rna-NM_ ┆ Scer_N ┆ … ┆ 3          ┆ 2          ┆ 2         ┆ 2         │\n",
       "│            ┆ 466        ┆ 0011838 ┆ CBI    ┆   ┆            ┆            ┆           ┆           │\n",
       "│            ┆            ┆ 14.3    ┆        ┆   ┆            ┆            ┆           ┆           │\n",
       "│ 65         ┆ cluster_n3 ┆ rna-NM_ ┆ Scer_N ┆ … ┆ 3          ┆ 2          ┆ 2         ┆ 2         │\n",
       "│            ┆ 466        ┆ 0011840 ┆ CBI    ┆   ┆            ┆            ┆           ┆           │\n",
       "│            ┆            ┆ 96.1    ┆        ┆   ┆            ┆            ┆           ┆           │\n",
       "└────────────┴────────────┴─────────┴────────┴───┴────────────┴────────────┴───────────┴───────────┘"
      ]
     },
     "execution_count": 14,
     "metadata": {},
     "output_type": "execute_result"
    }
   ],
   "source": [
    "nter_elongates_data.filter(\n",
    "    (pl.col(\"is_max_Nter\") == 1) & (pl.col(\"max_Nter\") > 15)\n",
    ")"
   ]
  }
 ],
 "metadata": {
  "kernelspec": {
   "display_name": "Python 3",
   "language": "python",
   "name": "python3"
  },
  "language_info": {
   "codemirror_mode": {
    "name": "ipython",
    "version": 3
   },
   "file_extension": ".py",
   "mimetype": "text/x-python",
   "name": "python",
   "nbconvert_exporter": "python",
   "pygments_lexer": "ipython3",
   "version": "3.8.10"
  },
  "orig_nbformat": 4
 },
 "nbformat": 4,
 "nbformat_minor": 2
}
