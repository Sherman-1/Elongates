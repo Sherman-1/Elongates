{
 "cells": [
  {
   "cell_type": "code",
   "execution_count": 5,
   "metadata": {},
   "outputs": [],
   "source": [
    "import polars as pl \n",
    "\n",
    "\n",
    "df  = pl.read_csv(\"output/0.5_elongates.csv\").filter(pl.col(\"cluster_size\") == 7)\n",
    "\n",
    "                \n"
   ]
  },
  {
   "cell_type": "code",
   "execution_count": 27,
   "metadata": {},
   "outputs": [
    {
     "data": {
      "text/html": [
       "<div><style>\n",
       ".dataframe > thead > tr > th,\n",
       ".dataframe > tbody > tr > td {\n",
       "  text-align: right;\n",
       "}\n",
       "</style>\n",
       "<small>shape: (21, 2)</small><table border=\"1\" class=\"dataframe\"><thead><tr><th>cluster_name</th><th>cluster_size</th></tr><tr><td>str</td><td>i64</td></tr></thead><tbody><tr><td>&quot;cluster_n2541&quot;</td><td>7</td></tr><tr><td>&quot;cluster_n2541&quot;</td><td>7</td></tr><tr><td>&quot;cluster_n2541&quot;</td><td>7</td></tr><tr><td>&quot;cluster_n2541&quot;</td><td>7</td></tr><tr><td>&quot;cluster_n2541&quot;</td><td>7</td></tr><tr><td>&quot;cluster_n2541&quot;</td><td>7</td></tr><tr><td>&quot;cluster_n13&quot;</td><td>7</td></tr><tr><td>&quot;cluster_n13&quot;</td><td>7</td></tr><tr><td>&quot;cluster_n13&quot;</td><td>7</td></tr><tr><td>&quot;cluster_n7114&quot;</td><td>7</td></tr><tr><td>&quot;cluster_n7114&quot;</td><td>7</td></tr><tr><td>&quot;cluster_n7114&quot;</td><td>7</td></tr><tr><td>&quot;cluster_n7114&quot;</td><td>7</td></tr><tr><td>&quot;cluster_n7114&quot;</td><td>7</td></tr><tr><td>&quot;cluster_n7114&quot;</td><td>7</td></tr><tr><td>&quot;cluster_n1451&quot;</td><td>7</td></tr><tr><td>&quot;cluster_n1451&quot;</td><td>7</td></tr><tr><td>&quot;cluster_n1451&quot;</td><td>7</td></tr><tr><td>&quot;cluster_n1451&quot;</td><td>7</td></tr><tr><td>&quot;cluster_n1451&quot;</td><td>7</td></tr><tr><td>&quot;cluster_n1451&quot;</td><td>7</td></tr></tbody></table></div>"
      ],
      "text/plain": [
       "shape: (21, 2)\n",
       "┌───────────────┬──────────────┐\n",
       "│ cluster_name  ┆ cluster_size │\n",
       "│ ---           ┆ ---          │\n",
       "│ str           ┆ i64          │\n",
       "╞═══════════════╪══════════════╡\n",
       "│ cluster_n2541 ┆ 7            │\n",
       "│ cluster_n2541 ┆ 7            │\n",
       "│ cluster_n2541 ┆ 7            │\n",
       "│ cluster_n2541 ┆ 7            │\n",
       "│ …             ┆ …            │\n",
       "│ cluster_n1451 ┆ 7            │\n",
       "│ cluster_n1451 ┆ 7            │\n",
       "│ cluster_n1451 ┆ 7            │\n",
       "│ cluster_n1451 ┆ 7            │\n",
       "└───────────────┴──────────────┘"
      ]
     },
     "execution_count": 27,
     "metadata": {},
     "output_type": "execute_result"
    }
   ],
   "source": [
    "\n"
   ]
  },
  {
   "cell_type": "code",
   "execution_count": 29,
   "metadata": {},
   "outputs": [
    {
     "data": {
      "text/plain": [
       "['SVEESNSAIDSTYLA',\n",
       " 'SMEESSLALDFTNLA',\n",
       " 'SVEESNSALDFTRLA',\n",
       " 'SVEESNSALDFTRLA',\n",
       " None,\n",
       " 'SVEESNSALDFTRLA',\n",
       " 'SVEESNSALDFTRLA']"
      ]
     },
     "execution_count": 29,
     "metadata": {},
     "output_type": "execute_result"
    }
   ],
   "source": []
  }
 ],
 "metadata": {
  "kernelspec": {
   "display_name": "Python 3",
   "language": "python",
   "name": "python3"
  },
  "language_info": {
   "codemirror_mode": {
    "name": "ipython",
    "version": 3
   },
   "file_extension": ".py",
   "mimetype": "text/x-python",
   "name": "python",
   "nbconvert_exporter": "python",
   "pygments_lexer": "ipython3",
   "version": "3.8.10"
  },
  "orig_nbformat": 4
 },
 "nbformat": 4,
 "nbformat_minor": 2
}
