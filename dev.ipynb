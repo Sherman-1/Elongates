{
 "cells": [
  {
   "cell_type": "code",
   "execution_count": 4,
   "metadata": {},
   "outputs": [
    {
     "data": {
      "text/plain": [
       "{'species': 'Scer_NCBI',\n",
       " 'seq_id': 'rna-NM_001180415.1',\n",
       " 'five_length': 18,\n",
       " 'three_length': 0}"
      ]
     },
     "execution_count": 4,
     "metadata": {},
     "output_type": "execute_result"
    }
   ],
   "source": [
    "if sequence[\"five_length\"] != 0:\n",
    "            Nter = SeqRecord(seq = Seq(sequence[\"nter_elongate\"]),\n",
    "                            id = f\"{sequence['seq_id']}-{clustered_sequences}-5utr-{int(len(sequence['nter_elongate']))}\",\n",
    "                            description = \"\")\n",
    "            \n",
    "            nter_db.append(Nter)\n",
    "\n",
    "        if sequence[\"three_length\"] != 0:\n",
    "            Cter = SeqRecord(seq = Seq(sequence[\"cter_elongate\"]),\n",
    "                            id = f\"{sequence['seq_id']}-{clustered_sequences}-3utr-{int(len(sequence['cter_elongate']))}\",\n",
    "                            description = \"\")\n",
    "            \n",
    "            cter_db.append(Cter)"
   ]
  }
 ],
 "metadata": {
  "kernelspec": {
   "display_name": "Python 3",
   "language": "python",
   "name": "python3"
  },
  "language_info": {
   "codemirror_mode": {
    "name": "ipython",
    "version": 3
   },
   "file_extension": ".py",
   "mimetype": "text/x-python",
   "name": "python",
   "nbconvert_exporter": "python",
   "pygments_lexer": "ipython3",
   "version": "3.8.10"
  },
  "orig_nbformat": 4
 },
 "nbformat": 4,
 "nbformat_minor": 2
}
