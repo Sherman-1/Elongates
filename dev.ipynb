{
 "cells": [
  {
   "cell_type": "code",
   "execution_count": 9,
   "metadata": {},
   "outputs": [],
   "source": [
    "import polars as pl\n",
    "\n",
    "data = pl.read_csv(\"output/output.csv\")"
   ]
  },
  {
   "cell_type": "code",
   "execution_count": 11,
   "metadata": {},
   "outputs": [
    {
     "name": "stdout",
     "output_type": "stream",
     "text": [
      "(0, 1)\n",
      "(12, 83)\n",
      "(6, 4263)\n",
      "(1, 3049)\n",
      "(7, 40)\n",
      "(5, 286)\n",
      "(9, 20)\n",
      "(4, 169)\n",
      "(2, 341)\n",
      "(15, 2)\n",
      "(3, 199)\n",
      "(16, 3)\n",
      "(18, 5)\n",
      "(19, 3)\n",
      "(11, 21)\n",
      "(10, 18)\n",
      "(13, 6)\n",
      "(8, 20)\n",
      "(25, 2)\n",
      "(17, 3)\n",
      "(79, 1)\n",
      "(14, 1)\n",
      "(31, 2)\n",
      "(24, 1)\n",
      "(21, 1)\n",
      "(32, 1)\n"
     ]
    }
   ],
   "source": [
    "count = 0\n",
    "for line in data.iter_rows():\n",
    "    count += line[0]*line[1]"
   ]
  }
 ],
 "metadata": {
  "kernelspec": {
   "display_name": "Python 3",
   "language": "python",
   "name": "python3"
  },
  "language_info": {
   "codemirror_mode": {
    "name": "ipython",
    "version": 3
   },
   "file_extension": ".py",
   "mimetype": "text/x-python",
   "name": "python",
   "nbconvert_exporter": "python",
   "pygments_lexer": "ipython3",
   "version": "3.8.10"
  },
  "orig_nbformat": 4
 },
 "nbformat": 4,
 "nbformat_minor": 2
}
