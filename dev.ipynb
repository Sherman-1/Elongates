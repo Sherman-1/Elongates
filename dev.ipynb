{
 "cells": [
  {
   "cell_type": "code",
   "execution_count": 9,
   "metadata": {},
   "outputs": [],
   "source": [
    "import polars as pl\n",
    "\n",
    "data = pl.read_csv(\"output/output.csv\")"
   ]
  },
  {
   "cell_type": "code",
   "execution_count": 10,
   "metadata": {},
   "outputs": [
    {
     "data": {
      "text/plain": [
       "1"
      ]
     },
     "execution_count": 10,
     "metadata": {},
     "output_type": "execute_result"
    }
   ],
   "source": [
    "int(True)"
   ]
  },
  {
   "cell_type": "code",
   "execution_count": 8,
   "metadata": {},
   "outputs": [
    {
     "name": "stdout",
     "output_type": "stream",
     "text": [
      "Is the first AA after the elongation in protein_1 a Methionine? True\n",
      "Is the first AA after the elongation in protein_2 a Methionine? False\n",
      "Is the first AA after the elongation in protein_3 a Methionine? False\n"
     ]
    }
   ],
   "source": [
    "# Create a dictionary with protein names and sequences\n",
    "protein_data = {\n",
    "    'protein_1': 'MGSHHHHHHGMASHMDEQKLISEEDLL',\n",
    "    'protein_2': 'SVHHHHHHHGMASHMDEQKLISEEDLL',\n",
    "    'protein_3': 'DEHHHHHHHGMASHMDEQKLISEEDLL'\n",
    "}\n",
    "\n",
    "# Define elongation lengths for each protein (for the sake of the example)\n",
    "elongation_lengths = {\n",
    "    'protein_1': 10,\n",
    "    'protein_2': 5,\n",
    "    'protein_3': 5\n",
    "}\n",
    "\n",
    "# Check each protein\n",
    "for protein_name, sequence in protein_data.items():\n",
    "    elongation_length = elongation_lengths[protein_name]\n",
    "    is_methionine = is_annotated_start_methionine(sequence, elongation_length)\n",
    "    print(f\"Is the first AA after the elongation in {protein_name} a Methionine? {is_methionine}\")\n"
   ]
  }
 ],
 "metadata": {
  "kernelspec": {
   "display_name": "Python 3",
   "language": "python",
   "name": "python3"
  },
  "language_info": {
   "codemirror_mode": {
    "name": "ipython",
    "version": 3
   },
   "file_extension": ".py",
   "mimetype": "text/x-python",
   "name": "python",
   "nbconvert_exporter": "python",
   "pygments_lexer": "ipython3",
   "version": "3.8.10"
  },
  "orig_nbformat": 4
 },
 "nbformat": 4,
 "nbformat_minor": 2
}
